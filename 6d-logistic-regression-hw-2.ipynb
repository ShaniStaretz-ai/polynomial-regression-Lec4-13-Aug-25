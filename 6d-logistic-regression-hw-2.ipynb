{
 "cells": [
  {
   "cell_type": "code",
   "execution_count": 1,
   "id": "fdae248b-24b0-44c2-a829-d694be58a398",
   "metadata": {},
   "outputs": [],
   "source": [
    "import numpy as np\n",
    "import matplotlib.pyplot as plt\n",
    "from sklearn.linear_model import LogisticRegression"
   ]
  },
  {
   "cell_type": "code",
   "execution_count": 2,
   "id": "8ccbb77d-62c9-448f-8f2f-985e41e9f254",
   "metadata": {},
   "outputs": [],
   "source": [
    "# Our data\n",
    "x1_study_h_wk = np.array([2, 3, 4, 4, 5, 5, 6, 6, 7, 7,8,8,9,10])\n",
    "x2_sleep_h_night = np.array([5.0, 5.5, 5.0, 6.0, 5.5, 6.5, 6.0, 7.0, 6.5, 7.5,6.0,7.0,7.0,7.5])\n",
    "y_pass = np.array([0, 0, 0, 0, 0, 0, 1, 1, 1, 1,1,1,1,1])\n",
    "\n",
    "# Combine features into a 2D array\n",
    "X = np.column_stack((x1_study_h_wk, x2_sleep_h_night))"
   ]
  },
  {
   "cell_type": "code",
   "execution_count": 3,
   "id": "3ede4427-ee58-4acf-989c-a3675f25f60d",
   "metadata": {},
   "outputs": [
    {
     "name": "stdout",
     "output_type": "stream",
     "text": [
      "Intercept: -0.44427259781707745\n",
      "Coefficients: [1.1133932887535787, -0.8699979324441991]\n",
      "p(pass=1) = 1 / (1 + exp(-(-0.4443 + 1.1134*x1 + -0.8700*x2)))\n"
     ]
    }
   ],
   "source": [
    "# Fit logistic regression\n",
    "log_model = LogisticRegression(solver='liblinear')\n",
    "log_model.fit(X, y_pass)\n",
    "b0 = log_model.intercept_[0]\n",
    "b1, b2 = log_model.coef_[0]\n",
    "# Print model coefficients\n",
    "print(\"Intercept:\", b0)\n",
    "print(\"Coefficients:\", [b1, b2])\n",
    "print(f\"p(pass=1) = 1 / (1 + exp(-({b0:.4f} + {b1:.4f}*x1 + {b2:.4f}*x2)))\")"
   ]
  },
  {
   "cell_type": "code",
   "execution_count": 4,
   "id": "848c75d5-76fd-45bc-92ce-039555c15bb5",
   "metadata": {},
   "outputs": [
    {
     "name": "stdout",
     "output_type": "stream",
     "text": [
      "Predicted probability for [x1, x2] = [6.5, 7.5]: 0.5666\n"
     ]
    }
   ],
   "source": [
    "def predict_prob(x1, x2):\n",
    "    linear_combination = b0 + b1 * x1 + b2 * x2\n",
    "    prob = 1 / (1 + np.exp(-linear_combination))\n",
    "    return prob\n",
    "x1_new = 6.5\n",
    "x2_new = 7.5\n",
    "prob_new = predict_prob(x1_new, x2_new)\n",
    "print(f\"Predicted probability for [x1, x2] = [6.5, 7.5]: {prob_new:.4f}\")"
   ]
  }
 ],
 "metadata": {
  "kernelspec": {
   "display_name": "Python [conda env:base] *",
   "language": "python",
   "name": "conda-base-py"
  },
  "language_info": {
   "codemirror_mode": {
    "name": "ipython",
    "version": 3
   },
   "file_extension": ".py",
   "mimetype": "text/x-python",
   "name": "python",
   "nbconvert_exporter": "python",
   "pygments_lexer": "ipython3",
   "version": "3.12.7"
  }
 },
 "nbformat": 4,
 "nbformat_minor": 5
}
